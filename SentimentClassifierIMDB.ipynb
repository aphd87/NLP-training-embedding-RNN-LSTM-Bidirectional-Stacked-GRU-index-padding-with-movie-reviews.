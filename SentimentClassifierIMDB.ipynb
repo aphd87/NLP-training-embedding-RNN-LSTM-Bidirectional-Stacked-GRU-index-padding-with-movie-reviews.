{
  "nbformat": 4,
  "nbformat_minor": 0,
  "metadata": {
    "colab": {
      "provenance": []
    },
    "kernelspec": {
      "name": "python3",
      "display_name": "Python 3"
    },
    "language_info": {
      "name": "python"
    }
  },
  "cells": [
    {
      "cell_type": "code",
      "execution_count": 1,
      "metadata": {
        "colab": {
          "base_uri": "https://localhost:8080/"
        },
        "id": "A3pIpCt-84JN",
        "outputId": "f2abef5b-9eb5-4638-bea3-d4e63524d022"
      },
      "outputs": [
        {
          "output_type": "stream",
          "name": "stdout",
          "text": [
            "Looking in indexes: https://pypi.org/simple, https://us-python.pkg.dev/colab-wheels/public/simple/\n",
            "Requirement already satisfied: keras in /usr/local/lib/python3.8/dist-packages (2.9.0)\n"
          ]
        }
      ],
      "source": [
        "!pip install keras\n",
        "import keras\n",
        "from tensorflow.keras.layers import Dense\n",
        "from keras.layers import Activation, Dense\n",
        "from keras.layers import Embedding\n",
        "from keras.datasets import imdb\n",
        "from keras_preprocessing.sequence import pad_sequences \n",
        "from keras.models import Sequential\n",
        "from keras.layers import Dense, Flatten, Dropout, Bidirectional, SpatialDropout1D, LSTM, GRU, SimpleRNN\n",
        "from keras.callbacks import ModelCheckpoint\n",
        "import os\n",
        "from sklearn.metrics import roc_auc_score, roc_curve\n",
        "import pandas as pd\n",
        "import matplotlib.pyplot as plt\n",
        "%matplotlib inline\n",
        "%load_ext tensorboard"
      ]
    },
    {
      "cell_type": "code",
      "source": [
        "#Output directory\n",
        "output_dir = 'model_output/rnn'\n",
        "\n",
        "#Training:\n",
        "epochs = 4\n",
        "batch_size = 128\n",
        "\n",
        "#Embedding:\n",
        "n_dim = 64\n",
        "n_unique_words = 5000\n",
        "n_words_to_skip = 50 \n",
        "max_review_length = 100\n",
        "pad_type = trunc_type = 'pre'\n",
        "drop_embed=0.2\n",
        "\n",
        "#Dense \n",
        "#n_dense = 64\n",
        "#dropout = 0.5"
      ],
      "metadata": {
        "id": "BNwo3ZtO-qoI"
      },
      "execution_count": 2,
      "outputs": []
    },
    {
      "cell_type": "code",
      "source": [
        "#RNN\n",
        "n_rnn = 256\n",
        "drop_rnn = 0.2\n",
        "\n",
        "#LSTM/Bi\n",
        "n_lstm = 256\n",
        "drop_lstm = 0.2\n",
        "\n",
        "#Stacked\n",
        "n_lstm_1 = 64\n",
        "n_lstm_2 = 64\n",
        "drop2_lstm = 0.2\n",
        "\n",
        "#GRU\n",
        "n_gru = 256\n",
        "drop_gru = 0.2"
      ],
      "metadata": {
        "id": "GbCM2U_FI5Z7"
      },
      "execution_count": 3,
      "outputs": []
    },
    {
      "cell_type": "code",
      "source": [
        "#Load IMDB Data\n",
        "#This is a dataset of 25,000 movies reviews from IMDB, labeled by sentiment\n",
        "#(positive/negative). Reviews have been preprocessed, and each review is\n",
        "#encoded as a list of word indexes (integers).\n",
        "#For convenience, words are indexed by overall frequency in the dataset,\n",
        "#so that for instance the integer \"3\" encodes the 3rd most frequent word in\n",
        "#the data. This allows for quick filtering operations such as:\n",
        "#\"only consider the top 10,000 most\n",
        "#common words, but eliminate the top 20 most common words\".\n",
        "#As a convention, \"0\" does not stand for a specific word, but instead is used\n",
        "#to encode any unknown word.\n",
        "(x_train, y_train), (x_valid, y_valid) = imdb.load_data(num_words=n_unique_words, \n",
        "                                                       skip_top=n_words_to_skip)\n",
        "x_train = pad_sequences(x_train, maxlen=max_review_length, padding=pad_type, truncating=trunc_type, value=0)\n",
        "x_valid = pad_sequences(x_valid, maxlen=max_review_length, padding=pad_type, truncating=trunc_type, value=0)"
      ],
      "metadata": {
        "id": "mvmoZFLq_Q9e"
      },
      "execution_count": 4,
      "outputs": []
    },
    {
      "cell_type": "code",
      "source": [
        "#RNN\n",
        "model= Sequential()\n",
        "model.add(Embedding(n_unique_words, n_dim, input_length=max_review_length))\n",
        "model.add(SpatialDropout1D(drop_embed))\n",
        "model.add(SimpleRNN(n_rnn, dropout=drop_rnn))\n",
        "model.add(Dense(1, activation='sigmoid'))\n",
        "model.summary()"
      ],
      "metadata": {
        "colab": {
          "base_uri": "https://localhost:8080/"
        },
        "outputId": "184e77d6-3e8c-4266-f36f-0f1dd68218f8",
        "id": "IuGiPPqMJiZr"
      },
      "execution_count": 11,
      "outputs": [
        {
          "output_type": "stream",
          "name": "stdout",
          "text": [
            "Model: \"sequential_5\"\n",
            "_________________________________________________________________\n",
            " Layer (type)                Output Shape              Param #   \n",
            "=================================================================\n",
            " embedding_5 (Embedding)     (None, 100, 64)           320000    \n",
            "                                                                 \n",
            " spatial_dropout1d_5 (Spatia  (None, 100, 64)          0         \n",
            " lDropout1D)                                                     \n",
            "                                                                 \n",
            " simple_rnn_3 (SimpleRNN)    (None, 256)               82176     \n",
            "                                                                 \n",
            " dense_3 (Dense)             (None, 1)                 257       \n",
            "                                                                 \n",
            "=================================================================\n",
            "Total params: 402,433\n",
            "Trainable params: 402,433\n",
            "Non-trainable params: 0\n",
            "_________________________________________________________________\n"
          ]
        }
      ]
    },
    {
      "cell_type": "code",
      "source": [
        "#LSTM\n",
        "model= Sequential()\n",
        "model.add(Embedding(n_unique_words, n_dim, input_length=max_review_length))\n",
        "model.add(SpatialDropout1D(drop_embed))\n",
        "model.add(LSTM(n_lstm, dropout=drop_lstm))\n",
        "model.add(Dense(1, activation='sigmoid'))\n",
        "model.summary()\n"
      ],
      "metadata": {
        "colab": {
          "base_uri": "https://localhost:8080/"
        },
        "id": "SDoLsJMSSfxV",
        "outputId": "157a9316-1820-4017-882c-4ad9f0e2f1e2"
      },
      "execution_count": 12,
      "outputs": [
        {
          "output_type": "stream",
          "name": "stdout",
          "text": [
            "Model: \"sequential_6\"\n",
            "_________________________________________________________________\n",
            " Layer (type)                Output Shape              Param #   \n",
            "=================================================================\n",
            " embedding_6 (Embedding)     (None, 100, 64)           320000    \n",
            "                                                                 \n",
            " spatial_dropout1d_6 (Spatia  (None, 100, 64)          0         \n",
            " lDropout1D)                                                     \n",
            "                                                                 \n",
            " lstm_2 (LSTM)               (None, 256)               328704    \n",
            "                                                                 \n",
            " dense_4 (Dense)             (None, 1)                 257       \n",
            "                                                                 \n",
            "=================================================================\n",
            "Total params: 648,961\n",
            "Trainable params: 648,961\n",
            "Non-trainable params: 0\n",
            "_________________________________________________________________\n"
          ]
        }
      ]
    },
    {
      "cell_type": "code",
      "source": [
        "#Bidirectional LSTM\n",
        "model= Sequential()\n",
        "model.add(Embedding(n_unique_words, n_dim, input_length=max_review_length))\n",
        "model.add(SpatialDropout1D(drop_embed))\n",
        "model.add(Bidirectional(LSTM(n_lstm, dropout=drop_lstm)))\n",
        "model.add(Dense(1, activation='sigmoid'))\n",
        "model.summary()"
      ],
      "metadata": {
        "colab": {
          "base_uri": "https://localhost:8080/"
        },
        "id": "C4JLs6zYT3F1",
        "outputId": "d7240c40-0689-44b0-83e7-1a90a3ff8cfd"
      },
      "execution_count": 13,
      "outputs": [
        {
          "output_type": "stream",
          "name": "stdout",
          "text": [
            "Model: \"sequential_7\"\n",
            "_________________________________________________________________\n",
            " Layer (type)                Output Shape              Param #   \n",
            "=================================================================\n",
            " embedding_7 (Embedding)     (None, 100, 64)           320000    \n",
            "                                                                 \n",
            " spatial_dropout1d_7 (Spatia  (None, 100, 64)          0         \n",
            " lDropout1D)                                                     \n",
            "                                                                 \n",
            " bidirectional (Bidirectiona  (None, 512)              657408    \n",
            " l)                                                              \n",
            "                                                                 \n",
            " dense_5 (Dense)             (None, 1)                 513       \n",
            "                                                                 \n",
            "=================================================================\n",
            "Total params: 977,921\n",
            "Trainable params: 977,921\n",
            "Non-trainable params: 0\n",
            "_________________________________________________________________\n"
          ]
        }
      ]
    },
    {
      "cell_type": "code",
      "source": [
        "#GRU\n",
        "model= Sequential()\n",
        "model.add(Embedding(n_unique_words, n_dim, input_length=max_review_length))\n",
        "model.add(SpatialDropout1D(drop_embed))\n",
        "model.add(GRU(n_gru, dropout=drop_gru))\n",
        "model.add(Dense(1, activation='sigmoid'))\n",
        "model.summary()"
      ],
      "metadata": {
        "colab": {
          "base_uri": "https://localhost:8080/"
        },
        "id": "4ufKV2LyUIEc",
        "outputId": "2efa42ac-091e-4330-de3c-6083615af428"
      },
      "execution_count": 15,
      "outputs": [
        {
          "output_type": "stream",
          "name": "stdout",
          "text": [
            "Model: \"sequential_8\"\n",
            "_________________________________________________________________\n",
            " Layer (type)                Output Shape              Param #   \n",
            "=================================================================\n",
            " embedding_8 (Embedding)     (None, 100, 64)           320000    \n",
            "                                                                 \n",
            " spatial_dropout1d_8 (Spatia  (None, 100, 64)          0         \n",
            " lDropout1D)                                                     \n",
            "                                                                 \n",
            " gru (GRU)                   (None, 256)               247296    \n",
            "                                                                 \n",
            " dense_6 (Dense)             (None, 1)                 257       \n",
            "                                                                 \n",
            "=================================================================\n",
            "Total params: 567,553\n",
            "Trainable params: 567,553\n",
            "Non-trainable params: 0\n",
            "_________________________________________________________________\n"
          ]
        }
      ]
    },
    {
      "cell_type": "code",
      "source": [
        "#Stacked \n",
        "model= Sequential()\n",
        "model.add(Embedding(n_unique_words, n_dim, input_length=max_review_length))\n",
        "model.add(SpatialDropout1D(drop_embed))\n",
        "model.add(Bidirectional(LSTM(n_lstm_1, dropout=drop_lstm,\n",
        "                             return_sequences=True)))\n",
        "model.add(Bidirectional(LSTM(n_lstm_2, dropout=drop_lstm)))\n",
        "model.add(Dense(1, activation='sigmoid'))\n",
        "model.summary()"
      ],
      "metadata": {
        "colab": {
          "base_uri": "https://localhost:8080/"
        },
        "id": "rW-DOA_nUiZd",
        "outputId": "aee028da-da72-4d63-b884-ffa8d921a1ad"
      },
      "execution_count": 16,
      "outputs": [
        {
          "output_type": "stream",
          "name": "stdout",
          "text": [
            "Model: \"sequential_9\"\n",
            "_________________________________________________________________\n",
            " Layer (type)                Output Shape              Param #   \n",
            "=================================================================\n",
            " embedding_9 (Embedding)     (None, 100, 64)           320000    \n",
            "                                                                 \n",
            " spatial_dropout1d_9 (Spatia  (None, 100, 64)          0         \n",
            " lDropout1D)                                                     \n",
            "                                                                 \n",
            " bidirectional_1 (Bidirectio  (None, 100, 128)         66048     \n",
            " nal)                                                            \n",
            "                                                                 \n",
            " bidirectional_2 (Bidirectio  (None, 128)              98816     \n",
            " nal)                                                            \n",
            "                                                                 \n",
            " dense_7 (Dense)             (None, 1)                 129       \n",
            "                                                                 \n",
            "=================================================================\n",
            "Total params: 484,993\n",
            "Trainable params: 484,993\n",
            "Non-trainable params: 0\n",
            "_________________________________________________________________\n"
          ]
        }
      ]
    },
    {
      "cell_type": "markdown",
      "source": [],
      "metadata": {
        "id": "NcyeAa4AU86U"
      }
    },
    {
      "cell_type": "code",
      "source": [
        "#Model compile\n",
        "model.compile(loss='binary_crossentropy', optimizer='adam', metrics=['accuracy'])\n",
        "modelcheckpoint = ModelCheckpoint(filepath=output_dir+\"/weights.{epoch:02d}.hdf5\")\n",
        "if not os.path.exists(output_dir):\n",
        "    os.makedirs(output_dir)\n",
        "\n",
        "#Model train\n",
        "model.fit(x_train, y_train,\n",
        "          batch_size=batch_size, epochs=epochs, verbose=1,\n",
        "          validation_data = (x_valid, y_valid),\n",
        "          callbacks=[modelcheckpoint])\n",
        "#Evaluate \n",
        "model.load_weights(output_dir+\"/weights.02.hdf5\") #Not zero-indexed\n",
        "y_hat = model.predict(x_valid)"
      ],
      "metadata": {
        "colab": {
          "base_uri": "https://localhost:8080/"
        },
        "id": "iDjzcOO0U-g7",
        "outputId": "797953b6-03a0-4795-fd19-db4ea711d6bb"
      },
      "execution_count": 18,
      "outputs": [
        {
          "output_type": "stream",
          "name": "stdout",
          "text": [
            "Epoch 1/4\n",
            "196/196 [==============================] - 122s 588ms/step - loss: 0.4905 - accuracy: 0.7410 - val_loss: 0.3485 - val_accuracy: 0.8479\n",
            "Epoch 2/4\n",
            "196/196 [==============================] - 113s 577ms/step - loss: 0.3100 - accuracy: 0.8695 - val_loss: 0.3478 - val_accuracy: 0.8485\n",
            "Epoch 3/4\n",
            "196/196 [==============================] - 114s 581ms/step - loss: 0.2698 - accuracy: 0.8895 - val_loss: 0.3430 - val_accuracy: 0.8485\n",
            "Epoch 4/4\n",
            "196/196 [==============================] - 114s 584ms/step - loss: 0.2311 - accuracy: 0.9094 - val_loss: 0.4041 - val_accuracy: 0.8418\n",
            "782/782 [==============================] - 28s 34ms/step\n"
          ]
        }
      ]
    },
    {
      "cell_type": "markdown",
      "source": [
        "To further refine the model, there are several tasks that can be executed below.\n"
      ],
      "metadata": {
        "id": "FVUehwkvZzkW"
      }
    },
    {
      "cell_type": "code",
      "source": [
        "#First six reviews\n",
        "x_train[0:6]\n"
      ],
      "metadata": {
        "id": "BZlPYGzt_5Pf"
      },
      "execution_count": null,
      "outputs": []
    },
    {
      "cell_type": "markdown",
      "source": [],
      "metadata": {
        "id": "2qGkt3W3_499"
      }
    },
    {
      "cell_type": "code",
      "source": [
        "#First six review lengths\n",
        "#We will pad these later and make them similar lengths\n",
        "for x in x_train[0:6]:\n",
        "  print(len(x))"
      ],
      "metadata": {
        "id": "Gr_D3NPoAE6F"
      },
      "execution_count": null,
      "outputs": []
    },
    {
      "cell_type": "code",
      "source": [
        "y_train[0:6]"
      ],
      "metadata": {
        "id": "00Bc8hqlArrk"
      },
      "execution_count": null,
      "outputs": []
    },
    {
      "cell_type": "code",
      "source": [
        "len(x_train), len(x_valid)"
      ],
      "metadata": {
        "id": "geb6qQ1OA8_m"
      },
      "execution_count": null,
      "outputs": []
    },
    {
      "cell_type": "code",
      "source": [
        "#Create index of words \n",
        "word_index = keras.datasets.imdb.get_word_index()\n",
        "word_index = {k:(v+3) for k,v in word_index.items()}\n",
        "word_index[\"PAD\"] = 0\n",
        "word_index[\"START\"] = 1\n",
        "word_index[\"UNK\"] = 2"
      ],
      "metadata": {
        "id": "AW4ZJylQHx02"
      },
      "execution_count": null,
      "outputs": []
    },
    {
      "cell_type": "markdown",
      "source": [],
      "metadata": {
        "id": "nZ4G5FyeHxa2"
      }
    },
    {
      "cell_type": "code",
      "source": [
        "index_word = {v:k for k,v in word_index.items()}"
      ],
      "metadata": {
        "id": "trGOyxsEIDRG"
      },
      "execution_count": null,
      "outputs": []
    },
    {
      "cell_type": "code",
      "source": [
        "x_train[0]"
      ],
      "metadata": {
        "id": "WJDbDcdbIHQW"
      },
      "execution_count": null,
      "outputs": []
    },
    {
      "cell_type": "code",
      "source": [
        "#First film review in the data set\n",
        "''.join(index_word[id] for id in x_train[0])"
      ],
      "metadata": {
        "id": "-OyrVK6zIJ3f"
      },
      "execution_count": null,
      "outputs": []
    },
    {
      "cell_type": "code",
      "source": [
        "#We need the full review as a series of string characters\n",
        "(all_x_train,_),(all_x_valid,_) = imdb.load_data()"
      ],
      "metadata": {
        "id": "Lu2trJN3I6VO"
      },
      "execution_count": null,
      "outputs": []
    },
    {
      "cell_type": "code",
      "source": [
        "' '.join(index_word[id] for id in all_x_train[0]) #The apostraphes at the beginning of this code line denote spacing between words"
      ],
      "metadata": {
        "id": "5B3fX0yeJECR"
      },
      "execution_count": null,
      "outputs": []
    },
    {
      "cell_type": "code",
      "source": [
        "#We can pad and truncate text here\n",
        "x_train = pad_sequences(x_train, maxlen=max_review_length,\n",
        "                        padding=pad_type, truncating=trunc_type, value=0)\n",
        "x_valid = pad_sequences(x_valid, maxlen=max_review_length,\n",
        "                        padding=pad_type, truncating=trunc_type, value=0)"
      ],
      "metadata": {
        "id": "PvugEMiYJLpm"
      },
      "execution_count": null,
      "outputs": []
    },
    {
      "cell_type": "code",
      "source": [
        "#There are a lot of zeroes here, so padding has been applied\n",
        "x_train[0:6]"
      ],
      "metadata": {
        "id": "MpLuoU1TJjxe"
      },
      "execution_count": null,
      "outputs": []
    },
    {
      "cell_type": "code",
      "source": [
        "for x in x_train[0:6]:\n",
        "  print(len(x))"
      ],
      "metadata": {
        "id": "Dn9PejomJluu"
      },
      "execution_count": null,
      "outputs": []
    },
    {
      "cell_type": "code",
      "source": [
        "' '.join(index_word[id] for id in x_train[5])"
      ],
      "metadata": {
        "id": "ogKIj9A-J3Ru"
      },
      "execution_count": null,
      "outputs": []
    },
    {
      "cell_type": "markdown",
      "source": [],
      "metadata": {
        "id": "WcWJNAplJhB7"
      }
    },
    {
      "cell_type": "code",
      "source": [
        "#64*5000=320,000 = This also equals parameters above\n",
        "n_dim, n_unique_words, n_dim*n_unique_words #embedding layer"
      ],
      "metadata": {
        "id": "T3oed0LXMJeP"
      },
      "execution_count": null,
      "outputs": []
    },
    {
      "cell_type": "code",
      "source": [
        "#100*64 = 6400\n",
        "max_review_length, n_dim, n_dim*max_review_length # flatten"
      ],
      "metadata": {
        "id": "TLly2TP7MQrv"
      },
      "execution_count": null,
      "outputs": []
    },
    {
      "cell_type": "code",
      "source": [
        "#This is the 409664\n",
        "#Each of 64 neurons in the dense layer receives input from 6400 values = 64*6400 = 409664 for the weights, \n",
        "n_dense, n_dim*max_review_length*n_dense + n_dense #dense: weights + biases"
      ],
      "metadata": {
        "id": "YSmqJAEfNL92"
      },
      "execution_count": null,
      "outputs": []
    },
    {
      "cell_type": "code",
      "source": [
        "n_dense + 1 #output\n",
        "#Output layer has 64 weights, 1 (bias) for output"
      ],
      "metadata": {
        "id": "PpIowkPfPo6X"
      },
      "execution_count": null,
      "outputs": []
    },
    {
      "cell_type": "code",
      "source": [
        "model.compile(loss='binary_crossentropy', optimizer='adam', metrics=['accuracy'])\n",
        "modelcheckpoint = ModelCheckpoint(filepath=output_dir+\"/weights.{epoch:02d}.hdf5\")\n",
        "if not os.path.exists(output_dir):\n",
        "    os.makedirs(output_dir)"
      ],
      "metadata": {
        "id": "NNbfnpnKSdXI"
      },
      "execution_count": null,
      "outputs": []
    },
    {
      "cell_type": "code",
      "source": [
        "#train\n",
        "model.fit(x_train, y_train,\n",
        "          batch_size=batch_size, epochs=epochs, verbose=1,\n",
        "          validation_data = (x_valid, y_valid),\n",
        "          callbacks=[modelcheckpoint])"
      ],
      "metadata": {
        "id": "4GA9eQlzTdcQ"
      },
      "execution_count": null,
      "outputs": []
    },
    {
      "cell_type": "code",
      "source": [
        "#Evaluate \n",
        "model.load_weights(output_dir+\"/weights.02.hdf5\") #Not zero-indexed\n",
        "y_hat = model.predict(x_valid)\n"
      ],
      "metadata": {
        "id": "9vYmRqKyT6Eo"
      },
      "execution_count": null,
      "outputs": []
    },
    {
      "cell_type": "code",
      "source": [
        "y_valid[0]"
      ],
      "metadata": {
        "id": "p2zw3QXCUC1Y"
      },
      "execution_count": null,
      "outputs": []
    },
    {
      "cell_type": "code",
      "source": [
        "plt.hist(y_hat)\n",
        "_ = plt.axvline(x=0.5, color='orange')"
      ],
      "metadata": {
        "id": "0xgmWrS-VHro"
      },
      "execution_count": null,
      "outputs": []
    },
    {
      "cell_type": "code",
      "source": [
        "pct_auc = roc_auc_score(y_valid, y_hat)*100\n",
        "\"{:0.2f}\".format(pct_auc)"
      ],
      "metadata": {
        "id": "GBnDD5CBVPWI"
      },
      "execution_count": null,
      "outputs": []
    },
    {
      "cell_type": "code",
      "source": [
        "float_y_hat = []\n",
        "for y in y_hat:\n",
        "  float_y_hat.append(y[0])"
      ],
      "metadata": {
        "id": "pkUsyvhCVYVQ"
      },
      "execution_count": null,
      "outputs": []
    },
    {
      "cell_type": "code",
      "source": [
        "' '.join(index_word[id] for id in all_x_valid[0])"
      ],
      "metadata": {
        "id": "lJBz5-jCVd1p"
      },
      "execution_count": null,
      "outputs": []
    },
    {
      "cell_type": "code",
      "source": [],
      "metadata": {
        "id": "Fr5Sm_hXVdtS"
      },
      "execution_count": null,
      "outputs": []
    },
    {
      "cell_type": "markdown",
      "source": [],
      "metadata": {
        "id": "P5LhQ_xzJLbP"
      }
    },
    {
      "cell_type": "markdown",
      "source": [],
      "metadata": {
        "id": "lzys19tnIJie"
      }
    },
    {
      "cell_type": "markdown",
      "source": [],
      "metadata": {
        "id": "DZcx8DdMAEqF"
      }
    }
  ]
}